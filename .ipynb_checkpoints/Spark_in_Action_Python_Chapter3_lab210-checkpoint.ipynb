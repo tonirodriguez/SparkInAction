{
 "cells": [
  {
   "cell_type": "markdown",
   "id": "b34b2fc3",
   "metadata": {},
   "source": [
    "# Spark in Action - Chapter 3 Python Version - Lab 210"
   ]
  },
  {
   "cell_type": "code",
   "execution_count": null,
   "id": "72b21234",
   "metadata": {},
   "outputs": [],
   "source": [
    "import os\n",
    "import json\n",
    "import logging\n",
    "from pyspark.sql import SparkSession\n",
    "from pyspark.sql import functions as F"
   ]
  },
  {
   "cell_type": "code",
   "execution_count": null,
   "id": "f5a3631d",
   "metadata": {},
   "outputs": [
    {
     "name": "stdout",
     "output_type": "stream",
     "text": [
      "22/10/22 09:28:12 INFO SharedState: Setting hive.metastore.warehouse.dir ('null') to the value of spark.sql.warehouse.dir.\n",
      "22/10/22 09:28:12 INFO SharedState: Warehouse path is 'file:/Users/development/ml/Spark/spark-warehouse'.\n",
      "22/10/22 09:28:13 WARN SparkSession: Using an existing Spark session; only runtime SQL configurations will take effect.\n"
     ]
    }
   ],
   "source": [
    "spark = SparkSession.builder \\\n",
    "        .appName(\"Schema introspection for restaurants in Wake County, NC\") \\\n",
    "        .master(\"local[*]\") \\\n",
    "        .getOrCreate()\n",
    "\n",
    "spark.sparkContext.setLogLevel('warn')"
   ]
  },
  {
   "cell_type": "code",
   "execution_count": null,
   "id": "9589d8ba",
   "metadata": {},
   "outputs": [],
   "source": [
    "def get_absolute_file_path(path, filename):\n",
    "    # To get absolute path for a given filename\n",
    "    current_dir = os.getcwd() #os.path.dirname(__file__)\n",
    "    relative_path = \"{}{}\".format(path, filename)\n",
    "    absolute_file_path = os.path.join(current_dir, relative_path)\n",
    "    return absolute_file_path"
   ]
  },
  {
   "cell_type": "code",
   "execution_count": null,
   "id": "36cd603e",
   "metadata": {},
   "outputs": [],
   "source": [
    "# The processing code.\n",
    "filename = 'Restaurants_in_Wake_County_NC.csv'\n",
    "path = 'net.jgp.books.spark.ch03/data/'\n",
    "absolute_file_path = get_absolute_file_path(path, filename)\n",
    "# Reads a CSV file with header, called\n",
    "# Restaurants_in_Wake_County_NC.csv,\n",
    "# stores it in a dataframe\n",
    "df = spark.read.csv(header=True, inferSchema=True, path=absolute_file_path)"
   ]
  },
  {
   "cell_type": "code",
   "execution_count": null,
   "id": "61b604b9",
   "metadata": {},
   "outputs": [],
   "source": [
    "# Let's transform our dataframe\n",
    "df = df.withColumn(\"county\", F.lit(\"Wake\")) \\\n",
    "        .withColumnRenamed(\"HSISID\", \"datasetId\") \\\n",
    "        .withColumnRenamed(\"NAME\", \"name\") \\\n",
    "        .withColumnRenamed(\"ADDRESS1\", \"address1\") \\\n",
    "        .withColumnRenamed(\"ADDRESS2\", \"address2\") \\\n",
    "        .withColumnRenamed(\"CITY\", \"city\") \\\n",
    "        .withColumnRenamed(\"STATE\", \"state\") \\\n",
    "        .withColumnRenamed(\"POSTALCODE\", \"zip\") \\\n",
    "        .withColumnRenamed(\"PHONENUMBER\", \"tel\") \\\n",
    "        .withColumnRenamed(\"RESTAURANTOPENDATE\", \"dateStart\") \\\n",
    "        .withColumnRenamed(\"FACILITYTYPE\", \"type\") \\\n",
    "        .withColumnRenamed(\"X\", \"geoX\") \\\n",
    "        .withColumnRenamed(\"Y\", \"geoY\")"
   ]
  },
  {
   "cell_type": "code",
   "execution_count": null,
   "id": "ff03a615",
   "metadata": {},
   "outputs": [],
   "source": [
    "df = df.withColumn(\"id\",\n",
    "        F.concat(F.col(\"state\"), F.lit(\"_\"), F.col(\"county\"), F.lit(\"_\"), F.col(\"datasetId\")))"
   ]
  },
  {
   "cell_type": "code",
   "execution_count": null,
   "id": "36b4960a",
   "metadata": {},
   "outputs": [
    {
     "name": "stderr",
     "output_type": "stream",
     "text": [
      "WARNING:root:*** Schema as a tree:\n"
     ]
    },
    {
     "name": "stdout",
     "output_type": "stream",
     "text": [
      "root\n",
      " |-- OBJECTID: integer (nullable = true)\n",
      " |-- datasetId: long (nullable = true)\n",
      " |-- name: string (nullable = true)\n",
      " |-- address1: string (nullable = true)\n",
      " |-- address2: string (nullable = true)\n",
      " |-- city: string (nullable = true)\n",
      " |-- state: string (nullable = true)\n",
      " |-- zip: string (nullable = true)\n",
      " |-- tel: string (nullable = true)\n",
      " |-- dateStart: timestamp (nullable = true)\n",
      " |-- type: string (nullable = true)\n",
      " |-- PERMITID: integer (nullable = true)\n",
      " |-- geoX: double (nullable = true)\n",
      " |-- geoY: double (nullable = true)\n",
      " |-- GEOCODESTATUS: string (nullable = true)\n",
      " |-- county: string (nullable = false)\n",
      " |-- id: string (nullable = true)\n",
      "\n"
     ]
    }
   ],
   "source": [
    "logging.warning(\"*** Schema as a tree:\")\n",
    "df.printSchema()"
   ]
  },
  {
   "cell_type": "code",
   "execution_count": null,
   "id": "e565f7b2",
   "metadata": {},
   "outputs": [
    {
     "name": "stderr",
     "output_type": "stream",
     "text": [
      "WARNING:root:*** Schema as string: StructType([StructField('OBJECTID', IntegerType(), True), StructField('datasetId', LongType(), True), StructField('name', StringType(), True), StructField('address1', StringType(), True), StructField('address2', StringType(), True), StructField('city', StringType(), True), StructField('state', StringType(), True), StructField('zip', StringType(), True), StructField('tel', StringType(), True), StructField('dateStart', TimestampType(), True), StructField('type', StringType(), True), StructField('PERMITID', IntegerType(), True), StructField('geoX', DoubleType(), True), StructField('geoY', DoubleType(), True), StructField('GEOCODESTATUS', StringType(), True), StructField('county', StringType(), False), StructField('id', StringType(), True)])\n"
     ]
    }
   ],
   "source": [
    "logging.warning(\"*** Schema as string: {}\".format(df.schema))\n",
    "schemaAsJson = df.schema.json()\n",
    "parsedSchemaAsJson = json.loads(schemaAsJson)"
   ]
  },
  {
   "cell_type": "code",
   "execution_count": null,
   "id": "4997d6b1",
   "metadata": {},
   "outputs": [
    {
     "name": "stderr",
     "output_type": "stream",
     "text": [
      "WARNING:root:*** Schema as JSON: {\n",
      "  \"fields\": [\n",
      "    {\n",
      "      \"metadata\": {},\n",
      "      \"name\": \"OBJECTID\",\n",
      "      \"nullable\": true,\n",
      "      \"type\": \"integer\"\n",
      "    },\n",
      "    {\n",
      "      \"metadata\": {},\n",
      "      \"name\": \"datasetId\",\n",
      "      \"nullable\": true,\n",
      "      \"type\": \"long\"\n",
      "    },\n",
      "    {\n",
      "      \"metadata\": {},\n",
      "      \"name\": \"name\",\n",
      "      \"nullable\": true,\n",
      "      \"type\": \"string\"\n",
      "    },\n",
      "    {\n",
      "      \"metadata\": {},\n",
      "      \"name\": \"address1\",\n",
      "      \"nullable\": true,\n",
      "      \"type\": \"string\"\n",
      "    },\n",
      "    {\n",
      "      \"metadata\": {},\n",
      "      \"name\": \"address2\",\n",
      "      \"nullable\": true,\n",
      "      \"type\": \"string\"\n",
      "    },\n",
      "    {\n",
      "      \"metadata\": {},\n",
      "      \"name\": \"city\",\n",
      "      \"nullable\": true,\n",
      "      \"type\": \"string\"\n",
      "    },\n",
      "    {\n",
      "      \"metadata\": {},\n",
      "      \"name\": \"state\",\n",
      "      \"nullable\": true,\n",
      "      \"type\": \"string\"\n",
      "    },\n",
      "    {\n",
      "      \"metadata\": {},\n",
      "      \"name\": \"zip\",\n",
      "      \"nullable\": true,\n",
      "      \"type\": \"string\"\n",
      "    },\n",
      "    {\n",
      "      \"metadata\": {},\n",
      "      \"name\": \"tel\",\n",
      "      \"nullable\": true,\n",
      "      \"type\": \"string\"\n",
      "    },\n",
      "    {\n",
      "      \"metadata\": {},\n",
      "      \"name\": \"dateStart\",\n",
      "      \"nullable\": true,\n",
      "      \"type\": \"timestamp\"\n",
      "    },\n",
      "    {\n",
      "      \"metadata\": {},\n",
      "      \"name\": \"type\",\n",
      "      \"nullable\": true,\n",
      "      \"type\": \"string\"\n",
      "    },\n",
      "    {\n",
      "      \"metadata\": {},\n",
      "      \"name\": \"PERMITID\",\n",
      "      \"nullable\": true,\n",
      "      \"type\": \"integer\"\n",
      "    },\n",
      "    {\n",
      "      \"metadata\": {},\n",
      "      \"name\": \"geoX\",\n",
      "      \"nullable\": true,\n",
      "      \"type\": \"double\"\n",
      "    },\n",
      "    {\n",
      "      \"metadata\": {},\n",
      "      \"name\": \"geoY\",\n",
      "      \"nullable\": true,\n",
      "      \"type\": \"double\"\n",
      "    },\n",
      "    {\n",
      "      \"metadata\": {},\n",
      "      \"name\": \"GEOCODESTATUS\",\n",
      "      \"nullable\": true,\n",
      "      \"type\": \"string\"\n",
      "    },\n",
      "    {\n",
      "      \"metadata\": {},\n",
      "      \"name\": \"county\",\n",
      "      \"nullable\": false,\n",
      "      \"type\": \"string\"\n",
      "    },\n",
      "    {\n",
      "      \"metadata\": {},\n",
      "      \"name\": \"id\",\n",
      "      \"nullable\": true,\n",
      "      \"type\": \"string\"\n",
      "    }\n",
      "  ],\n",
      "  \"type\": \"struct\"\n",
      "}\n"
     ]
    }
   ],
   "source": [
    "logging.warning(\"*** Schema as JSON: {}\".format(json.dumps(parsedSchemaAsJson, indent=2)))"
   ]
  },
  {
   "cell_type": "code",
   "execution_count": null,
   "id": "fafd714a",
   "metadata": {},
   "outputs": [],
   "source": [
    "spark.stop()"
   ]
  }
 ],
 "metadata": {
  "kernelspec": {
   "display_name": "fastai",
   "language": "python",
   "name": "fastai"
  }
 },
 "nbformat": 4,
 "nbformat_minor": 5
}
