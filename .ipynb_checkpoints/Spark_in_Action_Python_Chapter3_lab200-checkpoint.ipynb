{
 "cells": [
  {
   "cell_type": "markdown",
   "id": "c4d8d8b5",
   "metadata": {},
   "source": [
    "# Spark in Action - Chapter 3 Python Version - Lab 200"
   ]
  },
  {
   "cell_type": "code",
   "execution_count": null,
   "id": "e7b4c1c8",
   "metadata": {},
   "outputs": [],
   "source": [
    "import os\n",
    "import logging\n",
    "from pyspark.sql import SparkSession\n"
   ]
  },
  {
   "cell_type": "code",
   "execution_count": null,
   "id": "a41fa149",
   "metadata": {},
   "outputs": [],
   "source": [
    "#from pyspark.sql.functions import F\n",
    "import pyspark.sql.functions as F"
   ]
  },
  {
   "cell_type": "code",
   "execution_count": null,
   "id": "bb73df71",
   "metadata": {},
   "outputs": [],
   "source": [
    "def get_absolute_file_path(path, filename):\n",
    "    # To get absolute path for a given filename\n",
    "    current_dir = os.getcwd() #os.path.dirname(__file__)\n",
    "    relative_path = \"{}{}\".format(path, filename)\n",
    "    absolute_file_path = os.path.join(current_dir, relative_path)\n",
    "    return absolute_file_path"
   ]
  },
  {
   "cell_type": "code",
   "execution_count": null,
   "id": "279bbe5f",
   "metadata": {},
   "outputs": [],
   "source": [
    "def main(spark):\n",
    "    # The processing code.\n",
    "    filename = 'Restaurants_in_Wake_County_NC.csv'\n",
    "    path = 'net.jgp.books.spark.ch03/data/'\n",
    "    absolute_file_path = get_absolute_file_path(path, filename)\n",
    "\n",
    "    # Reads a CSV file with header, called\n",
    "    # Restaurants_in_Wake_County_NC.csv,\n",
    "    # stores it in a dataframe\n",
    "    df = spark.read.csv(header=True, inferSchema=True,path=absolute_file_path)\n",
    "\n",
    "    logging.warn(\"*** Right after ingestion\")\n",
    "    df.show(5)\n",
    "    df.printSchema()\n",
    "\n",
    "    logging.warn(\"We have {} records.\".format(df.count()))\n",
    "\n",
    "    # Let's transform our dataframe\n",
    "    df =  df.withColumn(\"county\", F.lit(\"Wake\")) \\\n",
    "            .withColumnRenamed(\"HSISID\", \"datasetId\") \\\n",
    "            .withColumnRenamed(\"NAME\", \"name\") \\\n",
    "            .withColumnRenamed(\"ADDRESS1\", \"address1\") \\\n",
    "            .withColumnRenamed(\"ADDRESS2\", \"address2\") \\\n",
    "            .withColumnRenamed(\"CITY\", \"city\") \\\n",
    "            .withColumnRenamed(\"STATE\", \"state\") \\\n",
    "            .withColumnRenamed(\"POSTALCODE\", \"zip\") \\\n",
    "            .withColumnRenamed(\"PHONENUMBER\", \"tel\") \\\n",
    "            .withColumnRenamed(\"RESTAURANTOPENDATE\", \"dateStart\") \\\n",
    "            .withColumnRenamed(\"FACILITYTYPE\", \"type\") \\\n",
    "            .withColumnRenamed(\"X\", \"geoX\") \\\n",
    "            .withColumnRenamed(\"Y\", \"geoY\") \\\n",
    "            .drop(\"OBJECTID\", \"PERMITID\", \"GEOCODESTATUS\")\n",
    "\n",
    "    df = df.withColumn(\"id\",\n",
    "                       F.concat(F.col(\"state\"), F.lit(\"_\"),\n",
    "                                F.col(\"county\"), F.lit(\"_\"),\n",
    "                                F.col(\"datasetId\")))\n",
    "\n",
    "    # Shows at most 5 rows from the dataframe\n",
    "    logging.warn(\"*** Dataframe transformed\")\n",
    "    df.show(5)\n",
    "\n",
    "    # for book only\n",
    "    dfUsedForBook = df.drop(\"address2\",\"zip\",\"tel\",\"dateStart\",\"geoX\",\"geoY\",\"address1\",\"datasetId\")\n",
    "\n",
    "    dfUsedForBook.show(5, 15)\n",
    "    # end\n",
    "\n",
    "    df.printSchema()\n",
    "\n",
    "    logging.warn(\"*** Looking at partitions\")\n",
    "    partitionCount = df.rdd.getNumPartitions()\n",
    "    logging.warn(\"Partition count before repartition: {}\".format(partitionCount))\n",
    "\n",
    "    df = df.repartition(4)\n",
    "\n",
    "    logging.warn(\"Partition count after repartition: {}\".format(df.rdd.getNumPartitions()))\n"
   ]
  },
  {
   "cell_type": "code",
   "execution_count": null,
   "id": "694a8a7c",
   "metadata": {},
   "outputs": [
    {
     "name": "stdout",
     "output_type": "stream",
     "text": [
      "22/10/22 01:24:49 INFO SharedState: Setting hive.metastore.warehouse.dir ('null') to the value of spark.sql.warehouse.dir.\n",
      "22/10/22 01:24:49 INFO SharedState: Warehouse path is 'file:/Users/development/ml/Spark/spark-warehouse'.\n",
      "22/10/22 01:24:50 WARN SparkSession: Using an existing Spark session; only runtime SQL configurations will take effect.\n"
     ]
    }
   ],
   "source": [
    "spark = SparkSession.builder.appName(\"Restaurants in Wake County, NC\") \\\n",
    "    .master(\"local[*]\").getOrCreate()"
   ]
  },
  {
   "cell_type": "code",
   "execution_count": null,
   "id": "210e1c6f",
   "metadata": {},
   "outputs": [
    {
     "name": "stderr",
     "output_type": "stream",
     "text": [
      "/var/folders/xg/f9kxbr7523sc6p79_hjsy2w00000gn/T/ipykernel_58363/4086147207.py:12: DeprecationWarning: The 'warn' function is deprecated, use 'warning' instead\n",
      "  logging.warn(\"*** Right after ingestion\")\n",
      "WARNING:root:*** Right after ingestion\n"
     ]
    },
    {
     "name": "stdout",
     "output_type": "stream",
     "text": [
      "+--------+----------+--------------------+--------------------+--------+-----------+-----+----------+--------------+-------------------+-----------------+--------+------------+-----------+-------------+\n",
      "|OBJECTID|    HSISID|                NAME|            ADDRESS1|ADDRESS2|       CITY|STATE|POSTALCODE|   PHONENUMBER| RESTAURANTOPENDATE|     FACILITYTYPE|PERMITID|           X|          Y|GEOCODESTATUS|\n",
      "+--------+----------+--------------------+--------------------+--------+-----------+-----+----------+--------------+-------------------+-----------------+--------+------------+-----------+-------------+\n",
      "|    1001|4092016024|                WABA|2502 1/2 HILLSBOR...|    null|    RALEIGH|   NC|     27607|(919) 833-1710|2011-10-18 02:00:00|       Restaurant|    6952|-78.66818477|35.78783803|            M|\n",
      "|    1002|4092021693|  WALMART DELI #2247|2010 KILDAIRE FAR...|    null|       CARY|   NC|     27518|(919) 852-6651|2011-11-08 01:00:00|       Food Stand|    6953|-78.78211173|35.73717591|            M|\n",
      "|    1003|4092017012|CAROLINA SUSHI &a...|5951-107 POYNER V...|    null|    RALEIGH|   NC|     27616|(919) 981-5835|2015-08-28 02:00:00|       Restaurant|    6961|-78.57030208|35.86511564|            M|\n",
      "|    1004|4092030288|THE CORNER VENEZU...|    7500 RAMBLE WAY |    null|    RALEIGH|   NC|     27616|          null|2015-09-04 02:00:00|Mobile Food Units|    6962|  -78.537511|35.87630712|            M|\n",
      "|    1005|4092015530|        SUBWAY #3726| 12233 CAPITAL BLVD |    null|WAKE FOREST|   NC|27587-6200|(919) 556-8266|2009-12-11 01:00:00|       Restaurant|    6972|-78.54097555|35.98087357|            M|\n",
      "+--------+----------+--------------------+--------------------+--------+-----------+-----+----------+--------------+-------------------+-----------------+--------+------------+-----------+-------------+\n",
      "only showing top 5 rows\n",
      "\n",
      "root\n",
      " |-- OBJECTID: integer (nullable = true)\n",
      " |-- HSISID: long (nullable = true)\n",
      " |-- NAME: string (nullable = true)\n",
      " |-- ADDRESS1: string (nullable = true)\n",
      " |-- ADDRESS2: string (nullable = true)\n",
      " |-- CITY: string (nullable = true)\n",
      " |-- STATE: string (nullable = true)\n",
      " |-- POSTALCODE: string (nullable = true)\n",
      " |-- PHONENUMBER: string (nullable = true)\n",
      " |-- RESTAURANTOPENDATE: timestamp (nullable = true)\n",
      " |-- FACILITYTYPE: string (nullable = true)\n",
      " |-- PERMITID: integer (nullable = true)\n",
      " |-- X: double (nullable = true)\n",
      " |-- Y: double (nullable = true)\n",
      " |-- GEOCODESTATUS: string (nullable = true)\n",
      "\n"
     ]
    },
    {
     "name": "stderr",
     "output_type": "stream",
     "text": [
      "/var/folders/xg/f9kxbr7523sc6p79_hjsy2w00000gn/T/ipykernel_58363/4086147207.py:16: DeprecationWarning: The 'warn' function is deprecated, use 'warning' instead\n",
      "  logging.warn(\"We have {} records.\".format(df.count()))\n",
      "WARNING:root:We have 3440 records.\n",
      "/var/folders/xg/f9kxbr7523sc6p79_hjsy2w00000gn/T/ipykernel_58363/4086147207.py:40: DeprecationWarning: The 'warn' function is deprecated, use 'warning' instead\n",
      "  logging.warn(\"*** Dataframe transformed\")\n",
      "WARNING:root:*** Dataframe transformed\n"
     ]
    },
    {
     "name": "stdout",
     "output_type": "stream",
     "text": [
      "+----------+--------------------+--------------------+--------+-----------+-----+----------+--------------+-------------------+-----------------+------------+-----------+------+------------------+\n",
      "| datasetId|                name|            address1|address2|       city|state|       zip|           tel|          dateStart|             type|        geoX|       geoY|county|                id|\n",
      "+----------+--------------------+--------------------+--------+-----------+-----+----------+--------------+-------------------+-----------------+------------+-----------+------+------------------+\n",
      "|4092016024|                WABA|2502 1/2 HILLSBOR...|    null|    RALEIGH|   NC|     27607|(919) 833-1710|2011-10-18 02:00:00|       Restaurant|-78.66818477|35.78783803|  Wake|NC_Wake_4092016024|\n",
      "|4092021693|  WALMART DELI #2247|2010 KILDAIRE FAR...|    null|       CARY|   NC|     27518|(919) 852-6651|2011-11-08 01:00:00|       Food Stand|-78.78211173|35.73717591|  Wake|NC_Wake_4092021693|\n",
      "|4092017012|CAROLINA SUSHI &a...|5951-107 POYNER V...|    null|    RALEIGH|   NC|     27616|(919) 981-5835|2015-08-28 02:00:00|       Restaurant|-78.57030208|35.86511564|  Wake|NC_Wake_4092017012|\n",
      "|4092030288|THE CORNER VENEZU...|    7500 RAMBLE WAY |    null|    RALEIGH|   NC|     27616|          null|2015-09-04 02:00:00|Mobile Food Units|  -78.537511|35.87630712|  Wake|NC_Wake_4092030288|\n",
      "|4092015530|        SUBWAY #3726| 12233 CAPITAL BLVD |    null|WAKE FOREST|   NC|27587-6200|(919) 556-8266|2009-12-11 01:00:00|       Restaurant|-78.54097555|35.98087357|  Wake|NC_Wake_4092015530|\n",
      "+----------+--------------------+--------------------+--------+-----------+-----+----------+--------------+-------------------+-----------------+------------+-----------+------+------------------+\n",
      "only showing top 5 rows\n",
      "\n"
     ]
    },
    {
     "name": "stderr",
     "output_type": "stream",
     "text": [
      "/var/folders/xg/f9kxbr7523sc6p79_hjsy2w00000gn/T/ipykernel_58363/4086147207.py:51: DeprecationWarning: The 'warn' function is deprecated, use 'warning' instead\n",
      "  logging.warn(\"*** Looking at partitions\")\n",
      "WARNING:root:*** Looking at partitions\n",
      "/var/folders/xg/f9kxbr7523sc6p79_hjsy2w00000gn/T/ipykernel_58363/4086147207.py:53: DeprecationWarning: The 'warn' function is deprecated, use 'warning' instead\n",
      "  logging.warn(\"Partition count before repartition: {}\".format(partitionCount))\n",
      "WARNING:root:Partition count before repartition: 1\n"
     ]
    },
    {
     "name": "stdout",
     "output_type": "stream",
     "text": [
      "+---------------+-----------+-----+---------------+------+---------------+\n",
      "|           name|       city|state|           type|county|             id|\n",
      "+---------------+-----------+-----+---------------+------+---------------+\n",
      "|           WABA|    RALEIGH|   NC|     Restaurant|  Wake|NC_Wake_4092...|\n",
      "|WALMART DELI...|       CARY|   NC|     Food Stand|  Wake|NC_Wake_4092...|\n",
      "|CAROLINA SUS...|    RALEIGH|   NC|     Restaurant|  Wake|NC_Wake_4092...|\n",
      "|THE CORNER V...|    RALEIGH|   NC|Mobile Food ...|  Wake|NC_Wake_4092...|\n",
      "|   SUBWAY #3726|WAKE FOREST|   NC|     Restaurant|  Wake|NC_Wake_4092...|\n",
      "+---------------+-----------+-----+---------------+------+---------------+\n",
      "only showing top 5 rows\n",
      "\n",
      "root\n",
      " |-- datasetId: long (nullable = true)\n",
      " |-- name: string (nullable = true)\n",
      " |-- address1: string (nullable = true)\n",
      " |-- address2: string (nullable = true)\n",
      " |-- city: string (nullable = true)\n",
      " |-- state: string (nullable = true)\n",
      " |-- zip: string (nullable = true)\n",
      " |-- tel: string (nullable = true)\n",
      " |-- dateStart: timestamp (nullable = true)\n",
      " |-- type: string (nullable = true)\n",
      " |-- geoX: double (nullable = true)\n",
      " |-- geoY: double (nullable = true)\n",
      " |-- county: string (nullable = false)\n",
      " |-- id: string (nullable = true)\n",
      "\n"
     ]
    },
    {
     "name": "stderr",
     "output_type": "stream",
     "text": [
      "/var/folders/xg/f9kxbr7523sc6p79_hjsy2w00000gn/T/ipykernel_58363/4086147207.py:57: DeprecationWarning: The 'warn' function is deprecated, use 'warning' instead\n",
      "  logging.warn(\"Partition count after repartition: {}\".format(df.rdd.getNumPartitions()))\n",
      "WARNING:root:Partition count after repartition: 4\n"
     ]
    }
   ],
   "source": [
    "# Comment this line to see full log\n",
    "spark.sparkContext.setLogLevel('warn')\n",
    "main(spark)\n",
    "spark.stop()"
   ]
  },
  {
   "cell_type": "code",
   "execution_count": null,
   "id": "5606082d",
   "metadata": {},
   "outputs": [],
   "source": [
    "spark.stop()"
   ]
  },
  {
   "cell_type": "code",
   "execution_count": null,
   "id": "6637f424",
   "metadata": {},
   "outputs": [],
   "source": []
  }
 ],
 "metadata": {
  "kernelspec": {
   "display_name": "fastai",
   "language": "python",
   "name": "fastai"
  }
 },
 "nbformat": 4,
 "nbformat_minor": 5
}
