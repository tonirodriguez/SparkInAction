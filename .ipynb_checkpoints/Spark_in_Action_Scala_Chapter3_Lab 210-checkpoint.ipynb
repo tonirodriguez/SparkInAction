{
 "cells": [
  {
   "cell_type": "markdown",
   "id": "e1381634",
   "metadata": {},
   "source": [
    "# Spark in Action - Chapter 3 Scala Version - Lab 210"
   ]
  },
  {
   "cell_type": "code",
   "execution_count": null,
   "id": "21bba815",
   "metadata": {},
   "outputs": [
    {
     "data": {
      "text/plain": [
       "Intitializing Scala interpreter ..."
      ]
     },
     "metadata": {},
     "output_type": "display_data"
    },
    {
     "data": {
      "text/plain": [
       "Spark Web UI available at http://192.168.1.41:4040\n",
       "SparkContext available as 'sc' (version = 3.3.0, master = local[*], app id = local-1666423942219)\n",
       "SparkSession available as 'spark'\n"
      ]
     },
     "metadata": {},
     "output_type": "display_data"
    },
    {
     "data": {
      "text/plain": [
       "import org.apache.spark.sql.functions.concat\n",
       "import org.apache.spark.sql.functions.lit\n",
       "import org.apache.spark.sql.SparkSession\n"
      ]
     },
     "execution_count": null,
     "metadata": {},
     "output_type": "execute_result"
    }
   ],
   "source": [
    "import org.apache.spark.sql.functions.concat\n",
    "import org.apache.spark.sql.functions.lit\n",
    "import org.apache.spark.sql.SparkSession"
   ]
  },
  {
   "cell_type": "code",
   "execution_count": null,
   "id": "92a61b9c",
   "metadata": {},
   "outputs": [
    {
     "name": "stdout",
     "output_type": "stream",
     "text": [
      "22/10/22 09:33:00 WARN SparkSession: Using an existing Spark session; only runtime SQL configurations will take effect.\n"
     ]
    },
    {
     "data": {
      "text/plain": [
       "spark: org.apache.spark.sql.SparkSession = org.apache.spark.sql.SparkSession@6a9c68b2\n"
      ]
     },
     "execution_count": null,
     "metadata": {},
     "output_type": "execute_result"
    }
   ],
   "source": [
    "val spark = SparkSession\n",
    "                .builder\n",
    "                .appName(\"Schema introspection for restaurants in Wake County, NC\")\n",
    "                .master(\"local\")\n",
    "                .getOrCreate"
   ]
  },
  {
   "cell_type": "code",
   "execution_count": null,
   "id": "cd1f247e",
   "metadata": {},
   "outputs": [
    {
     "data": {
      "text/plain": [
       "df: org.apache.spark.sql.DataFrame = [OBJECTID: string, HSISID: string ... 13 more fields]\n"
      ]
     },
     "execution_count": null,
     "metadata": {},
     "output_type": "execute_result"
    }
   ],
   "source": [
    "// Reads a CSV file with header, called books.csv, stores it in a\n",
    "// dataframe\n",
    "var df = spark\n",
    "            .read\n",
    "            .format(\"csv\")\n",
    "            .option(\"header\", \"true\")\n",
    "            .load(\"net.jgp.books.spark.ch03/data/Restaurants_in_Wake_County_NC.csv\")"
   ]
  },
  {
   "cell_type": "code",
   "execution_count": null,
   "id": "5f228687",
   "metadata": {},
   "outputs": [
    {
     "data": {
      "text/plain": [
       "df: org.apache.spark.sql.DataFrame = [OBJECTID: string, datasetId: string ... 14 more fields]\n"
      ]
     },
     "execution_count": null,
     "metadata": {},
     "output_type": "execute_result"
    }
   ],
   "source": [
    "// Let's transform our dataframe\n",
    "df = df.withColumn(\"county\", lit(\"Wake\"))\n",
    "      .withColumnRenamed(\"HSISID\", \"datasetId\")\n",
    "      .withColumnRenamed(\"NAME\", \"name\")\n",
    "      .withColumnRenamed(\"ADDRESS1\", \"address1\")\n",
    "      .withColumnRenamed(\"ADDRESS2\", \"address2\")\n",
    "      .withColumnRenamed(\"CITY\", \"city\")\n",
    "      .withColumnRenamed(\"STATE\", \"state\")\n",
    "      .withColumnRenamed(\"POSTALCODE\", \"zip\")\n",
    "      .withColumnRenamed(\"PHONENUMBER\", \"tel\")\n",
    "      .withColumnRenamed(\"RESTAURANTOPENDATE\", \"dateStart\")\n",
    "      .withColumnRenamed(\"FACILITYTYPE\", \"type\")\n",
    "      .withColumnRenamed(\"X\", \"geoX\")\n",
    "      .withColumnRenamed(\"Y\", \"geoY\")"
   ]
  },
  {
   "cell_type": "code",
   "execution_count": null,
   "id": "724a231b",
   "metadata": {},
   "outputs": [
    {
     "data": {
      "text/plain": [
       "df: org.apache.spark.sql.DataFrame = [OBJECTID: string, datasetId: string ... 15 more fields]\n"
      ]
     },
     "execution_count": null,
     "metadata": {},
     "output_type": "execute_result"
    }
   ],
   "source": [
    "df = df.withColumn(\"id\",\n",
    "      concat(df.col(\"state\"), lit(\"_\"), df.col(\"county\"), lit(\"_\"), df.col(\"datasetId\")))"
   ]
  },
  {
   "cell_type": "code",
   "execution_count": null,
   "id": "895d493b",
   "metadata": {},
   "outputs": [
    {
     "data": {
      "text/plain": [
       "schema: org.apache.spark.sql.types.StructType = StructType(StructField(OBJECTID,StringType,true),StructField(datasetId,StringType,true),StructField(name,StringType,true),StructField(address1,StringType,true),StructField(address2,StringType,true),StructField(city,StringType,true),StructField(state,StringType,true),StructField(zip,StringType,true),StructField(tel,StringType,true),StructField(dateStart,StringType,true),StructField(type,StringType,true),StructField(PERMITID,StringType,true),StructField(geoX,StringType,true),StructField(geoY,StringType,true),StructField(GEOCODESTATUS,StringType,true),StructField(county,StringType,false),StructField(id,StringType,true))\n"
      ]
     },
     "execution_count": null,
     "metadata": {},
     "output_type": "execute_result"
    }
   ],
   "source": [
    "val schema = df.schema"
   ]
  },
  {
   "cell_type": "code",
   "execution_count": null,
   "id": "2a0ee85f",
   "metadata": {},
   "outputs": [
    {
     "name": "stdout",
     "output_type": "stream",
     "text": [
      "*** Schema as a tree:\n",
      "root\n",
      " |-- OBJECTID: string (nullable = true)\n",
      " |-- datasetId: string (nullable = true)\n",
      " |-- name: string (nullable = true)\n",
      " |-- address1: string (nullable = true)\n",
      " |-- address2: string (nullable = true)\n",
      " |-- city: string (nullable = true)\n",
      " |-- state: string (nullable = true)\n",
      " |-- zip: string (nullable = true)\n",
      " |-- tel: string (nullable = true)\n",
      " |-- dateStart: string (nullable = true)\n",
      " |-- type: string (nullable = true)\n",
      " |-- PERMITID: string (nullable = true)\n",
      " |-- geoX: string (nullable = true)\n",
      " |-- geoY: string (nullable = true)\n",
      " |-- GEOCODESTATUS: string (nullable = true)\n",
      " |-- county: string (nullable = false)\n",
      " |-- id: string (nullable = true)\n",
      "\n"
     ]
    }
   ],
   "source": [
    "println(\"*** Schema as a tree:\")\n",
    "schema.printTreeString()"
   ]
  },
  {
   "cell_type": "code",
   "execution_count": null,
   "id": "246bea13",
   "metadata": {},
   "outputs": [
    {
     "name": "stdout",
     "output_type": "stream",
     "text": [
      "*** Schema as string: StructField(OBJECTID,StringType,true)StructField(datasetId,StringType,true)StructField(name,StringType,true)StructField(address1,StringType,true)StructField(address2,StringType,true)StructField(city,StringType,true)StructField(state,StringType,true)StructField(zip,StringType,true)StructField(tel,StringType,true)StructField(dateStart,StringType,true)StructField(type,StringType,true)StructField(PERMITID,StringType,true)StructField(geoX,StringType,true)StructField(geoY,StringType,true)StructField(GEOCODESTATUS,StringType,true)StructField(county,StringType,false)StructField(id,StringType,true)\n"
     ]
    },
    {
     "data": {
      "text/plain": [
       "schemaAsString: String = StructField(OBJECTID,StringType,true)StructField(datasetId,StringType,true)StructField(name,StringType,true)StructField(address1,StringType,true)StructField(address2,StringType,true)StructField(city,StringType,true)StructField(state,StringType,true)StructField(zip,StringType,true)StructField(tel,StringType,true)StructField(dateStart,StringType,true)StructField(type,StringType,true)StructField(PERMITID,StringType,true)StructField(geoX,StringType,true)StructField(geoY,StringType,true)StructField(GEOCODESTATUS,StringType,true)StructField(county,StringType,false)StructField(id,StringType,true)\n"
      ]
     },
     "execution_count": null,
     "metadata": {},
     "output_type": "execute_result"
    }
   ],
   "source": [
    "val schemaAsString = schema.mkString\n",
    "println(\"*** Schema as string: \" + schemaAsString)"
   ]
  },
  {
   "cell_type": "code",
   "execution_count": null,
   "id": "3ca370df",
   "metadata": {},
   "outputs": [
    {
     "name": "stdout",
     "output_type": "stream",
     "text": [
      "*** Schema as JSON: {\n",
      "  \"type\" : \"struct\",\n",
      "  \"fields\" : [ {\n",
      "    \"name\" : \"OBJECTID\",\n",
      "    \"type\" : \"string\",\n",
      "    \"nullable\" : true,\n",
      "    \"metadata\" : { }\n",
      "  }, {\n",
      "    \"name\" : \"datasetId\",\n",
      "    \"type\" : \"string\",\n",
      "    \"nullable\" : true,\n",
      "    \"metadata\" : { }\n",
      "  }, {\n",
      "    \"name\" : \"name\",\n",
      "    \"type\" : \"string\",\n",
      "    \"nullable\" : true,\n",
      "    \"metadata\" : { }\n",
      "  }, {\n",
      "    \"name\" : \"address1\",\n",
      "    \"type\" : \"string\",\n",
      "    \"nullable\" : true,\n",
      "    \"metadata\" : { }\n",
      "  }, {\n",
      "    \"name\" : \"address2\",\n",
      "    \"type\" : \"string\",\n",
      "    \"nullable\" : true,\n",
      "    \"metadata\" : { }\n",
      "  }, {\n",
      "    \"name\" : \"city\",\n",
      "    \"type\" : \"string\",\n",
      "    \"nullable\" : true,\n",
      "    \"metadata\" : { }\n",
      "  }, {\n",
      "    \"name\" : \"state\",\n",
      "    \"type\" : \"string\",\n",
      "    \"nullable\" : true,\n",
      "    \"metadata\" : { }\n",
      "  }, {\n",
      "    \"name\" : \"zip\",\n",
      "    \"type\" : \"string\",\n",
      "    \"nullable\" : true,\n",
      "    \"metadata\" : { }\n",
      "  }, {\n",
      "    \"name\" : \"tel\",\n",
      "    \"type\" : \"string\",\n",
      "    \"nullable\" : true,\n",
      "    \"metadata\" : { }\n",
      "  }, {\n",
      "    \"name\" : \"dateStart\",\n",
      "    \"type\" : \"string\",\n",
      "    \"nullable\" : true,\n",
      "    \"metadata\" : { }\n",
      "  }, {\n",
      "    \"name\" : \"type\",\n",
      "    \"type\" : \"string\",\n",
      "    \"nullable\" : true,\n",
      "    \"metadata\" : { }\n",
      "  }, {\n",
      "    \"name\" : \"PERMITID\",\n",
      "    \"type\" : \"string\",\n",
      "    \"nullable\" : true,\n",
      "    \"metadata\" : { }\n",
      "  }, {\n",
      "    \"name\" : \"geoX\",\n",
      "    \"type\" : \"string\",\n",
      "    \"nullable\" : true,\n",
      "    \"metadata\" : { }\n",
      "  }, {\n",
      "    \"name\" : \"geoY\",\n",
      "    \"type\" : \"string\",\n",
      "    \"nullable\" : true,\n",
      "    \"metadata\" : { }\n",
      "  }, {\n",
      "    \"name\" : \"GEOCODESTATUS\",\n",
      "    \"type\" : \"string\",\n",
      "    \"nullable\" : true,\n",
      "    \"metadata\" : { }\n",
      "  }, {\n",
      "    \"name\" : \"county\",\n",
      "    \"type\" : \"string\",\n",
      "    \"nullable\" : false,\n",
      "    \"metadata\" : { }\n",
      "  }, {\n",
      "    \"name\" : \"id\",\n",
      "    \"type\" : \"string\",\n",
      "    \"nullable\" : true,\n",
      "    \"metadata\" : { }\n",
      "  } ]\n",
      "}\n"
     ]
    },
    {
     "data": {
      "text/plain": [
       "schemaAsJson: String =\n",
       "{\n",
       "  \"type\" : \"struct\",\n",
       "  \"fields\" : [ {\n",
       "    \"name\" : \"OBJECTID\",\n",
       "    \"type\" : \"string\",\n",
       "    \"nullable\" : true,\n",
       "    \"metadata\" : { }\n",
       "  }, {\n",
       "    \"name\" : \"datasetId\",\n",
       "    \"type\" : \"string\",\n",
       "    \"nullable\" : true,\n",
       "    \"metadata\" : { }\n",
       "  }, {\n",
       "    \"name\" : \"name\",\n",
       "    \"type\" : \"string\",\n",
       "    \"nullable\" : true,\n",
       "    \"metadata\" : { }\n",
       "  }, {\n",
       "    \"name\" : \"address1\",\n",
       "    \"type\" : \"string\",\n",
       "    \"nullable\" : true,\n",
       "    \"metadata\" : { }\n",
       "  }, {\n",
       "    \"name\" : \"address2\",\n",
       "    \"type\" : \"string\",\n",
       "    \"nullable\" : true,\n",
       "    \"metadata\" : { }\n",
       "  }, {\n",
       "    \"name\" : \"city\",\n",
       "    \"type\" : \"string\",\n",
       "    \"nullable\" : true,\n",
       "    \"metadata\" : { }\n",
       "  }, {\n",
       "    \"name\" : \"state\",\n",
       "    \"type\" : \"string\",\n",
       "    \"nullable\" : true,\n",
       "    \"metadata\" : { }\n",
       "  }, {\n",
       "    \"name\" : \"zip\",\n",
       "    \"type\" : \"string\",\n",
       "    \"nul...\n"
      ]
     },
     "execution_count": null,
     "metadata": {},
     "output_type": "execute_result"
    }
   ],
   "source": [
    "val schemaAsJson = schema.prettyJson\n",
    "println(\"*** Schema as JSON: \" + schemaAsJson)"
   ]
  },
  {
   "cell_type": "code",
   "execution_count": null,
   "id": "e102e9e5",
   "metadata": {},
   "outputs": [],
   "source": [
    "spark.stop()"
   ]
  },
  {
   "cell_type": "code",
   "execution_count": null,
   "id": "5dd43cbb",
   "metadata": {},
   "outputs": [],
   "source": []
  }
 ],
 "metadata": {
  "kernelspec": {
   "display_name": "spylon-kernel",
   "language": "scala",
   "name": "spylon-kernel"
  }
 },
 "nbformat": 4,
 "nbformat_minor": 5
}
