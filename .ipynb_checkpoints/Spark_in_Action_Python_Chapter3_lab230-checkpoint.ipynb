{
 "cells": [
  {
   "cell_type": "markdown",
   "id": "b34b2fc3",
   "metadata": {},
   "source": [
    "# Spark in Action - Chapter 3 Python Version - Lab 230"
   ]
  },
  {
   "cell_type": "code",
   "execution_count": null,
   "id": "72b21234",
   "metadata": {},
   "outputs": [],
   "source": [
    "import os\n",
    "import logging\n",
    "from pyspark.sql import functions as F\n",
    "from pyspark.sql import SparkSession"
   ]
  },
  {
   "cell_type": "code",
   "execution_count": null,
   "id": "f5a3631d",
   "metadata": {},
   "outputs": [
    {
     "name": "stdout",
     "output_type": "stream",
     "text": [
      "22/10/22 09:49:07 INFO SharedState: Setting hive.metastore.warehouse.dir ('null') to the value of spark.sql.warehouse.dir.\n",
      "22/10/22 09:49:07 INFO SharedState: Warehouse path is 'file:/Users/development/ml/Spark/spark-warehouse'.\n",
      "22/10/22 09:49:08 WARN SparkSession: Using an existing Spark session; only runtime SQL configurations will take effect.\n"
     ]
    }
   ],
   "source": [
    "spark = SparkSession.builder \\\n",
    "        .appName(\"Union of two dataframes\") \\\n",
    "        .master(\"local[*]\") \\\n",
    "        .getOrCreate()\n",
    "\n",
    "spark.sparkContext.setLogLevel('warn')"
   ]
  },
  {
   "cell_type": "code",
   "execution_count": null,
   "id": "9589d8ba",
   "metadata": {},
   "outputs": [],
   "source": [
    "def get_absolute_file_path(path, filename):\n",
    "    # To get absolute path for a given filename\n",
    "    current_dir = os.getcwd() #os.path.dirname(__file__)\n",
    "    relative_path = \"{}{}\".format(path, filename)\n",
    "    absolute_file_path = os.path.join(current_dir, relative_path)\n",
    "    return absolute_file_path"
   ]
  },
  {
   "cell_type": "code",
   "execution_count": null,
   "id": "36cd603e",
   "metadata": {},
   "outputs": [],
   "source": [
    "# The processing code.\n",
    "filename = 'Restaurants_in_Durham_County_NC.json'\n",
    "path = 'net.jgp.books.spark.ch03/data/'\n",
    "absolute_file_path = get_absolute_file_path(path, filename)"
   ]
  },
  {
   "cell_type": "code",
   "execution_count": null,
   "id": "ad7f17e8",
   "metadata": {},
   "outputs": [
    {
     "name": "stderr",
     "output_type": "stream",
     "text": [
      "WARNING:root:*** Right after ingestion\n"
     ]
    },
    {
     "name": "stdout",
     "output_type": "stream",
     "text": [
      "+----------------+--------------------+--------------------+--------------------+--------------------+\n",
      "|       datasetid|              fields|            geometry|    record_timestamp|            recordid|\n",
      "+----------------+--------------------+--------------------+--------------------+--------------------+\n",
      "|restaurants-data|{null, Full-Servi...|{[-78.9573299, 35...|2017-07-13T09:15:...|1644654b953d1802c...|\n",
      "|restaurants-data|{null, Nursing Ho...|{[-78.8895483, 36...|2017-07-13T09:15:...|93573dbf8c9e799d8...|\n",
      "|restaurants-data|{null, Fast Food ...|{[-78.9593263, 35...|2017-07-13T09:15:...|0d274200c7cef50d0...|\n",
      "|restaurants-data|{null, Full-Servi...|{[-78.9060312, 36...|2017-07-13T09:15:...|cf3e0b175a6ebad2a...|\n",
      "|restaurants-data|{null, null, [36....|{[-78.9135175, 36...|2017-07-13T09:15:...|e796570677f7c39cc...|\n",
      "+----------------+--------------------+--------------------+--------------------+--------------------+\n",
      "only showing top 5 rows\n",
      "\n",
      "root\n",
      " |-- datasetid: string (nullable = true)\n",
      " |-- fields: struct (nullable = true)\n",
      " |    |-- closing_date: string (nullable = true)\n",
      " |    |-- est_group_desc: string (nullable = true)\n",
      " |    |-- geolocation: array (nullable = true)\n",
      " |    |    |-- element: double (containsNull = true)\n",
      " |    |-- hours_of_operation: string (nullable = true)\n",
      " |    |-- id: string (nullable = true)\n",
      " |    |-- insp_freq: long (nullable = true)\n",
      " |    |-- opening_date: string (nullable = true)\n",
      " |    |-- premise_address1: string (nullable = true)\n",
      " |    |-- premise_address2: string (nullable = true)\n",
      " |    |-- premise_city: string (nullable = true)\n",
      " |    |-- premise_name: string (nullable = true)\n",
      " |    |-- premise_phone: string (nullable = true)\n",
      " |    |-- premise_state: string (nullable = true)\n",
      " |    |-- premise_zip: string (nullable = true)\n",
      " |    |-- risk: long (nullable = true)\n",
      " |    |-- rpt_area_desc: string (nullable = true)\n",
      " |    |-- seats: long (nullable = true)\n",
      " |    |-- sewage: string (nullable = true)\n",
      " |    |-- smoking_allowed: string (nullable = true)\n",
      " |    |-- status: string (nullable = true)\n",
      " |    |-- transitional_type_desc: string (nullable = true)\n",
      " |    |-- type_description: string (nullable = true)\n",
      " |    |-- water: string (nullable = true)\n",
      " |-- geometry: struct (nullable = true)\n",
      " |    |-- coordinates: array (nullable = true)\n",
      " |    |    |-- element: double (containsNull = true)\n",
      " |    |-- type: string (nullable = true)\n",
      " |-- record_timestamp: string (nullable = true)\n",
      " |-- recordid: string (nullable = true)\n",
      "\n"
     ]
    },
    {
     "name": "stderr",
     "output_type": "stream",
     "text": [
      "WARNING:root:We have 2463 records.\n"
     ]
    }
   ],
   "source": [
    "# Reads a JSON file called Restaurants_in_Durham_County_NC.json, stores\n",
    "# it in a dataframe\n",
    "df = spark.read.json(absolute_file_path)\n",
    "logging.warning(\"*** Right after ingestion\")\n",
    "df.show(5)\n",
    "df.printSchema()\n",
    "logging.warning(\"We have {} records.\".format(df.count()))"
   ]
  },
  {
   "cell_type": "code",
   "execution_count": null,
   "id": "61b604b9",
   "metadata": {},
   "outputs": [],
   "source": [
    "df =  df.withColumn(\"county\", F.lit(\"Durham\")) \\\n",
    "        .withColumn(\"datasetId\", F.col(\"fields.id\")) \\\n",
    "        .withColumn(\"name\", F.col(\"fields.premise_name\")) \\\n",
    "        .withColumn(\"address1\", F.col(\"fields.premise_address1\")) \\\n",
    "        .withColumn(\"address2\", F.col(\"fields.premise_address2\")) \\\n",
    "        .withColumn(\"city\", F.col(\"fields.premise_city\")) \\\n",
    "        .withColumn(\"state\", F.col(\"fields.premise_state\")) \\\n",
    "        .withColumn(\"zip\", F.col(\"fields.premise_zip\")) \\\n",
    "        .withColumn(\"tel\", F.col(\"fields.premise_phone\")) \\\n",
    "        .withColumn(\"dateStart\", F.col(\"fields.opening_date\")) \\\n",
    "        .withColumn(\"dateEnd\", F.col(\"fields.closing_date\")) \\\n",
    "        .withColumn(\"type\", F.split(F.col(\"fields.type_description\"), \" - \").getItem(1)) \\\n",
    "        .withColumn(\"geoX\", F.col(\"fields.geolocation\").getItem(0)) \\\n",
    "        .withColumn(\"geoY\", F.col(\"fields.geolocation\").getItem(1))"
   ]
  },
  {
   "cell_type": "code",
   "execution_count": null,
   "id": "ff03a615",
   "metadata": {},
   "outputs": [],
   "source": [
    "df = df.withColumn(\"id\", F.concat(F.col(\"state\"), F.lit(\"_\"),\n",
    "                                  F.col(\"county\"), F.lit(\"_\"),\n",
    "                                  F.col(\"datasetId\")))"
   ]
  },
  {
   "cell_type": "code",
   "execution_count": null,
   "id": "36b4960a",
   "metadata": {},
   "outputs": [
    {
     "name": "stderr",
     "output_type": "stream",
     "text": [
      "WARNING:root:*** Dataframe transformed\n"
     ]
    },
    {
     "name": "stdout",
     "output_type": "stream",
     "text": [
      "+---------------+-----+------+---------+\n",
      "|             id|state|county|datasetId|\n",
      "+---------------+-----+------+---------+\n",
      "|NC_Durham_56060|   NC|Durham|    56060|\n",
      "|NC_Durham_58123|   NC|Durham|    58123|\n",
      "|NC_Durham_70266|   NC|Durham|    70266|\n",
      "|NC_Durham_97837|   NC|Durham|    97837|\n",
      "|NC_Durham_60690|   NC|Durham|    60690|\n",
      "+---------------+-----+------+---------+\n",
      "only showing top 5 rows\n",
      "\n",
      "root\n",
      " |-- datasetId: string (nullable = true)\n",
      " |-- fields: struct (nullable = true)\n",
      " |    |-- closing_date: string (nullable = true)\n",
      " |    |-- est_group_desc: string (nullable = true)\n",
      " |    |-- geolocation: array (nullable = true)\n",
      " |    |    |-- element: double (containsNull = true)\n",
      " |    |-- hours_of_operation: string (nullable = true)\n",
      " |    |-- id: string (nullable = true)\n",
      " |    |-- insp_freq: long (nullable = true)\n",
      " |    |-- opening_date: string (nullable = true)\n",
      " |    |-- premise_address1: string (nullable = true)\n",
      " |    |-- premise_address2: string (nullable = true)\n",
      " |    |-- premise_city: string (nullable = true)\n",
      " |    |-- premise_name: string (nullable = true)\n",
      " |    |-- premise_phone: string (nullable = true)\n",
      " |    |-- premise_state: string (nullable = true)\n",
      " |    |-- premise_zip: string (nullable = true)\n",
      " |    |-- risk: long (nullable = true)\n",
      " |    |-- rpt_area_desc: string (nullable = true)\n",
      " |    |-- seats: long (nullable = true)\n",
      " |    |-- sewage: string (nullable = true)\n",
      " |    |-- smoking_allowed: string (nullable = true)\n",
      " |    |-- status: string (nullable = true)\n",
      " |    |-- transitional_type_desc: string (nullable = true)\n",
      " |    |-- type_description: string (nullable = true)\n",
      " |    |-- water: string (nullable = true)\n",
      " |-- geometry: struct (nullable = true)\n",
      " |    |-- coordinates: array (nullable = true)\n",
      " |    |    |-- element: double (containsNull = true)\n",
      " |    |-- type: string (nullable = true)\n",
      " |-- record_timestamp: string (nullable = true)\n",
      " |-- recordid: string (nullable = true)\n",
      " |-- county: string (nullable = false)\n",
      " |-- name: string (nullable = true)\n",
      " |-- address1: string (nullable = true)\n",
      " |-- address2: string (nullable = true)\n",
      " |-- city: string (nullable = true)\n",
      " |-- state: string (nullable = true)\n",
      " |-- zip: string (nullable = true)\n",
      " |-- tel: string (nullable = true)\n",
      " |-- dateStart: string (nullable = true)\n",
      " |-- dateEnd: string (nullable = true)\n",
      " |-- type: string (nullable = true)\n",
      " |-- geoX: double (nullable = true)\n",
      " |-- geoY: double (nullable = true)\n",
      " |-- id: string (nullable = true)\n",
      "\n"
     ]
    }
   ],
   "source": [
    "logging.warning(\"*** Dataframe transformed\")\n",
    "df.select('id',\"state\", \"county\", \"datasetId\").show(5)\n",
    "df.printSchema()"
   ]
  },
  {
   "cell_type": "code",
   "execution_count": null,
   "id": "e565f7b2",
   "metadata": {},
   "outputs": [
    {
     "name": "stderr",
     "output_type": "stream",
     "text": [
      "WARNING:root:*** Looking at partitions\n",
      "WARNING:root:Partition count before repartition: 1\n"
     ]
    }
   ],
   "source": [
    "logging.warning(\"*** Looking at partitions\")\n",
    "partitionCount = df.rdd.getNumPartitions()\n",
    "logging.warning(\"Partition count before repartition: {}\".format(partitionCount))\n"
   ]
  },
  {
   "cell_type": "code",
   "execution_count": null,
   "id": "4997d6b1",
   "metadata": {},
   "outputs": [
    {
     "name": "stderr",
     "output_type": "stream",
     "text": [
      "WARNING:root:Partition count after repartition: 4\n"
     ]
    }
   ],
   "source": [
    "df = df.repartition(4)\n",
    "logging.warning(\"Partition count after repartition: {}\".format(df.rdd.getNumPartitions()))\n"
   ]
  },
  {
   "cell_type": "code",
   "execution_count": null,
   "id": "fafd714a",
   "metadata": {},
   "outputs": [],
   "source": [
    "spark.stop()"
   ]
  },
  {
   "cell_type": "code",
   "execution_count": null,
   "id": "e25c748d",
   "metadata": {},
   "outputs": [],
   "source": []
  }
 ],
 "metadata": {
  "kernelspec": {
   "display_name": "fastai",
   "language": "python",
   "name": "fastai"
  }
 },
 "nbformat": 4,
 "nbformat_minor": 5
}
