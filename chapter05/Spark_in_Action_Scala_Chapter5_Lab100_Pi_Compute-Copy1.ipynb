{
 "cells": [
  {
   "cell_type": "markdown",
   "id": "e2c021fd",
   "metadata": {},
   "source": [
    "# Spark in Action - Chapter 5 Scala Version - Lab 100 **Pi Computing**"
   ]
  },
  {
   "cell_type": "code",
   "execution_count": null,
   "id": "4b786504",
   "metadata": {},
   "outputs": [
    {
     "data": {
      "text/plain": [
       "Intitializing Scala interpreter ..."
      ]
     },
     "metadata": {},
     "output_type": "display_data"
    },
    {
     "data": {
      "text/plain": [
       "Spark Web UI available at http://192.168.1.41:4040\n",
       "SparkContext available as 'sc' (version = 3.3.0, master = local[*], app id = local-1667068306371)\n",
       "SparkSession available as 'spark'\n"
      ]
     },
     "metadata": {},
     "output_type": "display_data"
    },
    {
     "data": {
      "text/plain": [
       "import java.util.ArrayList\n",
       "import org.apache.spark.api.java.function.{MapFunction, ReduceFunction}\n",
       "import org.apache.spark.sql.{Encoders, Row, SparkSession}\n"
      ]
     },
     "execution_count": null,
     "metadata": {},
     "output_type": "execute_result"
    }
   ],
   "source": [
    "import java.util.ArrayList\n",
    "import org.apache.spark.api.java.function.{MapFunction, ReduceFunction}\n",
    "import org.apache.spark.sql.{Encoders, Row, SparkSession}"
   ]
  },
  {
   "cell_type": "code",
   "execution_count": null,
   "id": "56433046",
   "metadata": {},
   "outputs": [
    {
     "name": "stdout",
     "output_type": "stream",
     "text": [
      "About to throw 1000000 darts, ready? Stay away from the target!\n"
     ]
    },
    {
     "data": {
      "text/plain": [
       "slices: Int = 10\n",
       "numberOfThrows: Int = 1000000\n"
      ]
     },
     "execution_count": null,
     "metadata": {},
     "output_type": "execute_result"
    }
   ],
   "source": [
    "val slices = 10\n",
    "val numberOfThrows = 100000 * slices\n",
    "println(\"About to throw \" + numberOfThrows + \" darts, ready? Stay away from the target!\")"
   ]
  },
  {
   "cell_type": "code",
   "execution_count": null,
   "id": "0c8b1b12",
   "metadata": {},
   "outputs": [
    {
     "name": "stdout",
     "output_type": "stream",
     "text": [
      "22/10/29 20:32:45 WARN SparkSession: Using an existing Spark session; only runtime SQL configurations will take effect.\n",
      "Session initialized in 1492 ms\n"
     ]
    },
    {
     "data": {
      "text/plain": [
       "t0: Long = 1667068363759\n",
       "spark: org.apache.spark.sql.SparkSession = org.apache.spark.sql.SparkSession@41460b85\n",
       "t1: Long = 1667068365251\n"
      ]
     },
     "execution_count": null,
     "metadata": {},
     "output_type": "execute_result"
    }
   ],
   "source": [
    "val t0 = System.currentTimeMillis\n",
    "val spark = SparkSession.builder\n",
    "                        .appName(\"Spark Pi\")\n",
    "                        .master(\"local[*]\")\n",
    "                        .getOrCreate\n",
    "\n",
    "val t1 = System.currentTimeMillis\n",
    "println(\"Session initialized in \" + (t1 - t0) + \" ms\")"
   ]
  },
  {
   "cell_type": "code",
   "execution_count": null,
   "id": "e6bc6b4c",
   "metadata": {},
   "outputs": [
    {
     "data": {
      "text/plain": [
       "numList: java.util.ArrayList[Integer] = [1, 2, 3, 4, 5, 6, 7, 8, 9, 10, 11, 12, 13, 14, 15, 16, 17, 18, 19, 20, 21, 22, 23, 24, 25, 26, 27, 28, 29, 30, 31, 32, 33, 34, 35, 36, 37, 38, 39, 40, 41, 42, 43, 44, 45, 46, 47, 48, 49, 50, 51, 52, 53, 54, 55, 56, 57, 58, 59, 60, 61, 62, 63, 64, 65, 66, 67, 68, 69, 70, 71, 72, 73, 74, 75, 76, 77, 78, 79, 80, 81, 82, 83, 84, 85, 86, 87, 88, 89, 90, 91, 92, 93, 94, 95, 96, 97, 98, 99, 100, 101, 102, 103, 104, 105, 106, 107, 108, 109, 110, 111, 112, 113, 114, 115, 116, 117, 118, 119, 120, 121, 122, 123, 124, 125, 126, 127, 128, 129, 130, 131, 132, 133, 134, 135, 136, 137, 138, 139, 140, 141, 142, 143, 144, 145, 146, 147, 148, 149, 150, 151, 152, 153, 154, 155, 156, 157, 158, 159, 160, 161, 162, 163, 164, 165, 166, 167, 168, 169, 170, 171, 172, 173,...\n"
      ]
     },
     "execution_count": null,
     "metadata": {},
     "output_type": "execute_result"
    }
   ],
   "source": [
    "val numList = new ArrayList[Integer](numberOfThrows)\n",
    "\n",
    "// For  Spark Encoder implicits\n",
    "import spark.implicits._\n",
    "\n",
    "for(i <- 1.to(numberOfThrows))\n",
    "  numList.add(i)\n",
    "\n",
    "val incrementalDf = spark.createDataset(numList).toDF\n"
   ]
  },
  {
   "cell_type": "code",
   "execution_count": null,
   "id": "4f82d9db",
   "metadata": {},
   "outputs": [
    {
     "ename": "<console>",
     "evalue": "35: error: not found: type DartMapper",
     "output_type": "error",
     "traceback": [
      "<console>:35: error: not found: type DartMapper",
      "       val dartsDs = incrementalDf.map(new DartMapper, Encoders.INT)",
      "                                           ^",
      ""
     ]
    }
   ],
   "source": [
    "val t2 = System.currentTimeMillis\n",
    "println(\"Initial dataframe built in \" + (t2 - t1) + \" ms\")\n",
    "\n",
    "val dartsDs = incrementalDf.map(new DartMapper, Encoders.INT)\n",
    "\n",
    "val t3 = System.currentTimeMillis\n",
    "println(\"Throwing darts done in \" + (t3 - t2) + \" ms\")\n"
   ]
  },
  {
   "cell_type": "code",
   "execution_count": null,
   "id": "9ab4bc31",
   "metadata": {},
   "outputs": [],
   "source": [
    "final private class DartMapper extends MapFunction[Row, Integer] {\n",
    "@throws[Exception]\n",
    "override def call(r: Row): Integer = {\n",
    "  val x = Math.random * 2 - 1\n",
    "  val y = Math.random * 2 - 1\n",
    "  counter += 1\n",
    "  if (counter % 100000 == 0)\n",
    "    println(\"\" + counter + \" darts thrown so far\")\n",
    "  if (x * x + y * y <= 1) 1\n",
    "  else 0\n",
    "}"
   ]
  },
  {
   "cell_type": "code",
   "execution_count": null,
   "id": "a57759b1",
   "metadata": {},
   "outputs": [
    {
     "name": "stdout",
     "output_type": "stream",
     "text": [
      "Throwing darts done in 18 ms\n"
     ]
    },
    {
     "name": "stderr",
     "output_type": "stream",
     "text": [
      "\r",
      "[Stage 0:>                                                          (0 + 8) / 8]\r"
     ]
    },
    {
     "name": "stdout",
     "output_type": "stream",
     "text": [
      "Analyzing result in 2060 ms\n"
     ]
    },
    {
     "name": "stderr",
     "output_type": "stream",
     "text": [
      "\r",
      "                                                                                \r"
     ]
    }
   ],
   "source": [
    "t3 = int(round(time.time() * 1000))\n",
    "print(\"Throwing darts done in {} ms\".format(t3 - t2))\n",
    "\n",
    "dartsInCircle = dartsRDD.reduce(add)\n",
    "t4 = int(round(time.time() * 1000))\n",
    "\n",
    "print(\"Analyzing result in {} ms\".format(t4 - t3))"
   ]
  },
  {
   "cell_type": "code",
   "execution_count": null,
   "id": "2f60ec4a",
   "metadata": {},
   "outputs": [
    {
     "name": "stdout",
     "output_type": "stream",
     "text": [
      "Pi is roughly 3.145688\n"
     ]
    }
   ],
   "source": [
    "print(\"Pi is roughly {}\".format(4.0 * dartsInCircle/numberOfThrows))"
   ]
  },
  {
   "cell_type": "code",
   "execution_count": null,
   "id": "65a49bc7",
   "metadata": {},
   "outputs": [],
   "source": [
    "spark.stop()"
   ]
  },
  {
   "cell_type": "code",
   "execution_count": null,
   "id": "4b5cd720",
   "metadata": {},
   "outputs": [],
   "source": []
  }
 ],
 "metadata": {
  "kernelspec": {
   "display_name": "spylon-kernel",
   "language": "scala",
   "name": "spylon-kernel"
  }
 },
 "nbformat": 4,
 "nbformat_minor": 5
}
