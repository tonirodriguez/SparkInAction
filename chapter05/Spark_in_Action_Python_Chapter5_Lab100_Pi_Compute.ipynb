{
 "cells": [
  {
   "cell_type": "markdown",
   "id": "e2c021fd",
   "metadata": {},
   "source": [
    "# Spark in Action - Chapter 5 Python Version - Lab 100 **Pi Computing**"
   ]
  },
  {
   "cell_type": "code",
   "execution_count": null,
   "id": "4b786504",
   "metadata": {},
   "outputs": [],
   "source": [
    "import time\n",
    "from pyspark.sql import SparkSession\n",
    "from random import random\n",
    "from operator import add"
   ]
  },
  {
   "cell_type": "code",
   "execution_count": null,
   "id": "56433046",
   "metadata": {},
   "outputs": [
    {
     "name": "stdout",
     "output_type": "stream",
     "text": [
      "About to throw 1000000 darts, ready? Stay away from the target!\n"
     ]
    }
   ],
   "source": [
    "slices = 10\n",
    "numberOfThrows = 100000 * slices\n",
    "print(\"About to throw {} darts, ready? Stay away from the target!\".format(numberOfThrows))"
   ]
  },
  {
   "cell_type": "code",
   "execution_count": null,
   "id": "0c8b1b12",
   "metadata": {},
   "outputs": [
    {
     "name": "stdout",
     "output_type": "stream",
     "text": [
      "22/10/29 20:29:21 WARN SparkSession: Using an existing Spark session; only runtime SQL configurations will take effect.\n",
      "Session initialized in 937 ms\n"
     ]
    }
   ],
   "source": [
    "t0 = int(round(time.time() * 1000))\n",
    "\n",
    "spark = SparkSession.builder.appName(\"PySpark Pi\") \\\n",
    "    .master(\"local[*]\").getOrCreate()\n",
    "\n",
    "t1 = int(round(time.time() * 1000))\n",
    "\n",
    "print(\"Session initialized in {} ms\".format(t1 - t0))"
   ]
  },
  {
   "cell_type": "code",
   "execution_count": null,
   "id": "e6bc6b4c",
   "metadata": {},
   "outputs": [
    {
     "name": "stdout",
     "output_type": "stream",
     "text": [
      "Initial dataframe built in 623 ms\n"
     ]
    }
   ],
   "source": [
    "numList = []\n",
    "\n",
    "for x in range(numberOfThrows):\n",
    "    numList.append(x)\n",
    "\n",
    "incrementalRDD = spark.sparkContext.parallelize(numList)\n",
    "\n",
    "t2 = int(round(time.time() * 1000))\n",
    "print(\"Initial dataframe built in {} ms\".format(t2 - t1))"
   ]
  },
  {
   "cell_type": "code",
   "execution_count": null,
   "id": "4f82d9db",
   "metadata": {},
   "outputs": [],
   "source": [
    "def throwDarts(_):\n",
    "    x = random() * 2 - 1\n",
    "    y = random() * 2 - 1\n",
    "    return 1 if x ** 2 + y ** 2 <= 1 else 0\n",
    "\n",
    "dartsRDD = incrementalRDD.map(throwDarts)"
   ]
  },
  {
   "cell_type": "code",
   "execution_count": null,
   "id": "a57759b1",
   "metadata": {},
   "outputs": [
    {
     "name": "stdout",
     "output_type": "stream",
     "text": [
      "Throwing darts done in 18 ms\n"
     ]
    },
    {
     "name": "stderr",
     "output_type": "stream",
     "text": [
      "\r",
      "[Stage 0:>                                                          (0 + 8) / 8]\r"
     ]
    },
    {
     "name": "stdout",
     "output_type": "stream",
     "text": [
      "Analyzing result in 2060 ms\n"
     ]
    },
    {
     "name": "stderr",
     "output_type": "stream",
     "text": [
      "\r",
      "                                                                                \r"
     ]
    }
   ],
   "source": [
    "t3 = int(round(time.time() * 1000))\n",
    "print(\"Throwing darts done in {} ms\".format(t3 - t2))\n",
    "\n",
    "dartsInCircle = dartsRDD.reduce(add)\n",
    "t4 = int(round(time.time() * 1000))\n",
    "\n",
    "print(\"Analyzing result in {} ms\".format(t4 - t3))"
   ]
  },
  {
   "cell_type": "code",
   "execution_count": null,
   "id": "2f60ec4a",
   "metadata": {},
   "outputs": [
    {
     "name": "stdout",
     "output_type": "stream",
     "text": [
      "Pi is roughly 3.145688\n"
     ]
    }
   ],
   "source": [
    "print(\"Pi is roughly {}\".format(4.0 * dartsInCircle/numberOfThrows))"
   ]
  },
  {
   "cell_type": "code",
   "execution_count": null,
   "id": "65a49bc7",
   "metadata": {},
   "outputs": [],
   "source": [
    "spark.stop()"
   ]
  },
  {
   "cell_type": "code",
   "execution_count": null,
   "id": "4b5cd720",
   "metadata": {},
   "outputs": [],
   "source": []
  }
 ],
 "metadata": {
  "kernelspec": {
   "display_name": "fastai",
   "language": "python",
   "name": "fastai"
  }
 },
 "nbformat": 4,
 "nbformat_minor": 5
}
