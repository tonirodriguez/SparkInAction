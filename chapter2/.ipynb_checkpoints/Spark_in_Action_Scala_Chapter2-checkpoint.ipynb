{
 "cells": [
  {
   "cell_type": "markdown",
   "id": "69aa8df3",
   "metadata": {},
   "source": [
    "# Spark in Action - Chapter 2 Scala Version"
   ]
  },
  {
   "cell_type": "code",
   "execution_count": null,
   "id": "1fabc8a2",
   "metadata": {},
   "outputs": [
    {
     "data": {
      "text/plain": [
       "Intitializing Scala interpreter ..."
      ]
     },
     "metadata": {},
     "output_type": "display_data"
    },
    {
     "data": {
      "text/plain": [
       "Spark Web UI available at http://192.168.1.41:4040\n",
       "SparkContext available as 'sc' (version = 3.3.0, master = local[*], app id = local-1667056703538)\n",
       "SparkSession available as 'spark'\n"
      ]
     },
     "metadata": {},
     "output_type": "display_data"
    },
    {
     "data": {
      "text/plain": [
       "import java.util.Properties\n",
       "import org.apache.spark.sql.{SaveMode, SparkSession}\n",
       "import org.apache.spark.sql.functions.{concat, lit, col}\n"
      ]
     },
     "execution_count": null,
     "metadata": {},
     "output_type": "execute_result"
    }
   ],
   "source": [
    "import java.util.Properties\n",
    "\n",
    "import org.apache.spark.sql.{SaveMode, SparkSession}\n",
    "import org.apache.spark.sql.functions.{concat, lit, col}"
   ]
  },
  {
   "cell_type": "code",
   "execution_count": null,
   "id": "bb09abe3",
   "metadata": {},
   "outputs": [
    {
     "name": "stdout",
     "output_type": "stream",
     "text": [
      "22/10/29 17:18:31 WARN SparkSession: Using an existing Spark session; only runtime SQL configurations will take effect.\n"
     ]
    },
    {
     "data": {
      "text/plain": [
       "spark: org.apache.spark.sql.SparkSession = org.apache.spark.sql.SparkSession@59ce43a4\n"
      ]
     },
     "execution_count": null,
     "metadata": {},
     "output_type": "execute_result"
    }
   ],
   "source": [
    "// Creates a session on a local master\n",
    "val spark = SparkSession.builder\n",
    "    .appName(\"CSV to DB\")\n",
    "    .master(\"local[*]\")\n",
    "    .config(\"spark.jars\",\"{}/jars/sqlite-jdbc-3.36.0.3.jar\")\n",
    "    .config(\"spark.driver.extraClassPath\",\"{}/jars/sqlite-jdbc-3.36.0.3.jar\")\n",
    "    .getOrCreate"
   ]
  },
  {
   "cell_type": "code",
   "execution_count": null,
   "id": "d6a3061c",
   "metadata": {},
   "outputs": [
    {
     "data": {
      "text/plain": [
       "df: org.apache.spark.sql.DataFrame = [lname: string, fname: string]\n"
      ]
     },
     "execution_count": null,
     "metadata": {},
     "output_type": "execute_result"
    }
   ],
   "source": [
    "// Step 1: Ingestion\n",
    "// ---------\n",
    "// Reads a CSV file with header, called authors.csv, stores it in a\n",
    "// dataframe\n",
    "var df = spark.read.format(\"csv\")\n",
    "    .option(\"header\", \"true\")\n",
    "    .load(\"../net.jgp.books.spark.ch02/data/authors.csv\")"
   ]
  },
  {
   "cell_type": "code",
   "execution_count": null,
   "id": "dab5ef13",
   "metadata": {},
   "outputs": [
    {
     "name": "stdout",
     "output_type": "stream",
     "text": [
      "+--------+--------------+\n",
      "|   lname|         fname|\n",
      "+--------+--------------+\n",
      "|  Pascal|        Blaise|\n",
      "|Voltaire|      François|\n",
      "|  Perrin|  Jean-Georges|\n",
      "|Maréchal|Pierre Sylvain|\n",
      "|   Karau|        Holden|\n",
      "| Zaharia|         Matei|\n",
      "+--------+--------------+\n",
      "\n"
     ]
    }
   ],
   "source": [
    "df.show()"
   ]
  },
  {
   "cell_type": "code",
   "execution_count": null,
   "id": "e7ffc5b0",
   "metadata": {},
   "outputs": [
    {
     "data": {
      "text/plain": [
       "df: org.apache.spark.sql.DataFrame = [lname: string, fname: string ... 1 more field]\n"
      ]
     },
     "execution_count": null,
     "metadata": {},
     "output_type": "execute_result"
    }
   ],
   "source": [
    "// Step 2: Transform\n",
    "// ---------\n",
    "// Creates a new column called \"name\" as the concatenation of lname, a\n",
    "// virtual column containing \", \" and the fname column\n",
    "df = df.withColumn(\"name\", concat(col(\"lname\"), lit(\", \"), col(\"fname\")))"
   ]
  },
  {
   "cell_type": "code",
   "execution_count": null,
   "id": "0db19564",
   "metadata": {},
   "outputs": [
    {
     "name": "stdout",
     "output_type": "stream",
     "text": [
      "+--------+--------------+--------------------+\n",
      "|   lname|         fname|                name|\n",
      "+--------+--------------+--------------------+\n",
      "|  Pascal|        Blaise|      Pascal, Blaise|\n",
      "|Voltaire|      François|  Voltaire, François|\n",
      "|  Perrin|  Jean-Georges|Perrin, Jean-Georges|\n",
      "|Maréchal|Pierre Sylvain|Maréchal, Pierre ...|\n",
      "|   Karau|        Holden|       Karau, Holden|\n",
      "| Zaharia|         Matei|      Zaharia, Matei|\n",
      "+--------+--------------+--------------------+\n",
      "\n"
     ]
    }
   ],
   "source": [
    "df.show()"
   ]
  },
  {
   "cell_type": "code",
   "execution_count": null,
   "id": "67060b7a",
   "metadata": {},
   "outputs": [
    {
     "data": {
      "text/plain": [
       "dbConnectionUrl: String = jdbc:sqlite:/Users/development/ml/Spark/net.jgp.books.spark.ch02/data/spark_labs_scala.db\n"
      ]
     },
     "execution_count": null,
     "metadata": {},
     "output_type": "execute_result"
    }
   ],
   "source": [
    "// Step 3: Save\n",
    "// ----\n",
    "// The connection URL, assuming your PostgreSQL instance runs locally on\n",
    "// the\n",
    "// default port, and the database we use is \"spark_labs\"\n",
    "val dbConnectionUrl = \"jdbc:sqlite:/Users/development/ml/Spark/net.jgp.books.spark.ch02/data/spark_labs_scala.db\""
   ]
  },
  {
   "cell_type": "code",
   "execution_count": null,
   "id": "d51d5fc5",
   "metadata": {},
   "outputs": [
    {
     "data": {
      "text/plain": [
       "prop: java.util.Properties = {user=jgp, password=Spark<3Java, driver=org.sqlite.JDBC}\n",
       "res2: Object = null\n"
      ]
     },
     "execution_count": null,
     "metadata": {},
     "output_type": "execute_result"
    }
   ],
   "source": [
    "// Properties to connect to the database, the JDBC driver is part of our\n",
    "// pom.xml\n",
    "val prop = new Properties\n",
    "prop.setProperty(\"driver\", \"org.sqlite.JDBC\")\n",
    "prop.setProperty(\"user\", \"jgp\")\n",
    "prop.setProperty(\"password\", \"Spark<3Java\")"
   ]
  },
  {
   "cell_type": "code",
   "execution_count": null,
   "id": "b83a4148",
   "metadata": {},
   "outputs": [
    {
     "name": "stdout",
     "output_type": "stream",
     "text": [
      "22/10/29 17:18:37 WARN JdbcUtils: Requested isolation level 1 is not supported; falling back to default isolation level 8\n"
     ]
    }
   ],
   "source": [
    "// Write in a table called ch02\n",
    "df.write.mode(SaveMode.Overwrite).jdbc(dbConnectionUrl, \"ch02\", prop)"
   ]
  },
  {
   "cell_type": "code",
   "execution_count": null,
   "id": "6f55e414",
   "metadata": {},
   "outputs": [],
   "source": [
    "// Good to stop SparkSession at the end of the application\n",
    "spark.stop"
   ]
  },
  {
   "cell_type": "code",
   "execution_count": null,
   "id": "8ab9b5aa",
   "metadata": {},
   "outputs": [],
   "source": []
  }
 ],
 "metadata": {
  "kernelspec": {
   "display_name": "spylon-kernel",
   "language": "scala",
   "name": "spylon-kernel"
  }
 },
 "nbformat": 4,
 "nbformat_minor": 5
}
