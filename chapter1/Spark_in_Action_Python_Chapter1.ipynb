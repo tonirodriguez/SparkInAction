{
 "cells": [
  {
   "cell_type": "markdown",
   "id": "fada3ba3",
   "metadata": {},
   "source": [
    "# Spark in Action - Chapter 1 Python Version"
   ]
  },
  {
   "cell_type": "code",
   "execution_count": null,
   "id": "a65df40b",
   "metadata": {},
   "outputs": [],
   "source": [
    "from pyspark.sql import SparkSession\n",
    "import os"
   ]
  },
  {
   "cell_type": "code",
   "execution_count": null,
   "id": "a22ccf01",
   "metadata": {},
   "outputs": [],
   "source": [
    "current_dir = os.getcwd() #os.path.dirname(__file__)\n",
    "relative_path = \"../net.jgp.books.spark.ch01/data/books.csv\"\n",
    "absolute_file_path = os.path.join(current_dir, relative_path)"
   ]
  },
  {
   "cell_type": "code",
   "execution_count": null,
   "id": "a4410856",
   "metadata": {},
   "outputs": [
    {
     "name": "stdout",
     "output_type": "stream",
     "text": [
      "22/10/29 17:16:05 WARN SparkSession: Using an existing Spark session; only runtime SQL configurations will take effect.\n"
     ]
    }
   ],
   "source": [
    "# Creates a session on a local master\n",
    "session = SparkSession.builder.appName(\"CSV to Dataset\").master(\"local[*]\").getOrCreate()"
   ]
  },
  {
   "cell_type": "code",
   "execution_count": null,
   "id": "fff819fe",
   "metadata": {},
   "outputs": [],
   "source": [
    "# Reads a CSV file with header, called books.csv, stores it in a dataframe\n",
    "df = session.read.csv(header=True, inferSchema=True, path=absolute_file_path)"
   ]
  },
  {
   "cell_type": "code",
   "execution_count": null,
   "id": "cac9923c",
   "metadata": {},
   "outputs": [
    {
     "name": "stdout",
     "output_type": "stream",
     "text": [
      "+---+--------+--------------------+-----------+--------------------+\n",
      "| id|authorId|               title|releaseDate|                link|\n",
      "+---+--------+--------------------+-----------+--------------------+\n",
      "|  1|       1|Fantastic Beasts ...|   11/18/16|http://amzn.to/2k...|\n",
      "|  2|       1|Harry Potter and ...|    10/6/15|http://amzn.to/2l...|\n",
      "|  3|       1|The Tales of Beed...|    12/4/08|http://amzn.to/2k...|\n",
      "|  4|       1|Harry Potter and ...|    10/4/16|http://amzn.to/2k...|\n",
      "|  5|       2|Informix 12.10 on...|    4/23/17|http://amzn.to/2i...|\n",
      "+---+--------+--------------------+-----------+--------------------+\n",
      "only showing top 5 rows\n",
      "\n"
     ]
    }
   ],
   "source": [
    "# Shows at most 5 rows from the dataframe\n",
    "df.show(5)"
   ]
  },
  {
   "cell_type": "code",
   "execution_count": null,
   "id": "50a0b63b",
   "metadata": {},
   "outputs": [],
   "source": [
    "# Good to stop SparkSession at the end of the application\n",
    "session.stop()"
   ]
  }
 ],
 "metadata": {
  "kernelspec": {
   "display_name": "fastai",
   "language": "python",
   "name": "fastai"
  }
 },
 "nbformat": 4,
 "nbformat_minor": 5
}
